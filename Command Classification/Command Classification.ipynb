{
 "cells": [
  {
   "cell_type": "markdown",
   "id": "cfd20600",
   "metadata": {},
   "source": [
    "# 1. Command Classification\n",
    "## Problem Statement\n",
    "#### Create a python script or module to map a user’s command to a set of pre-defined commands\n",
    "#### Input: A textual command (user input) in varied formats.\n",
    "#### Output: A standard command mapped to one of the predefined commands.\n",
    "## Our Goal:\n",
    "#### High accuracy in classification.\n",
    "#### Flexibility for future updates.\n",
    "#### Minimized latency for real-time applications."
   ]
  },
  {
   "cell_type": "markdown",
   "id": "2faa30b3",
   "metadata": {},
   "source": [
    "## Building semantic text classification model\n",
    "\n",
    "#### We will use TF-IDF for vectorizing the commands.\n",
    "#### Apply a ML model SVM for classification.\n",
    "#### We will use fuzzywuzzy.\n",
    "#### Evaluate the our model using precision, recall, and accuracy metrics."
   ]
  },
  {
   "cell_type": "code",
   "execution_count": 2,
   "id": "cd5f475c",
   "metadata": {
    "scrolled": false
   },
   "outputs": [
    {
     "name": "stdout",
     "output_type": "stream",
     "text": [
      "Defaulting to user installation because normal site-packages is not writeable"
     ]
    },
    {
     "name": "stderr",
     "output_type": "stream",
     "text": [
      "WARNING: Ignoring invalid distribution -ensorflow-intel (c:\\users\\admin\\appdata\\roaming\\python\\python39\\site-packages)\n",
      "WARNING: Ignoring invalid distribution -ensorflow-intel (c:\\users\\admin\\appdata\\roaming\\python\\python39\\site-packages)\n",
      "WARNING: Ignoring invalid distribution -ensorflow-intel (c:\\users\\admin\\appdata\\roaming\\python\\python39\\site-packages)\n",
      "WARNING: Ignoring invalid distribution -ensorflow-intel (c:\\users\\admin\\appdata\\roaming\\python\\python39\\site-packages)\n",
      "\n",
      "[notice] A new release of pip is available: 24.2 -> 24.3.1\n",
      "[notice] To update, run: python.exe -m pip install --upgrade pip\n"
     ]
    },
    {
     "name": "stdout",
     "output_type": "stream",
     "text": [
      "\n",
      "Collecting fuzzywuzzy\n",
      "  Downloading fuzzywuzzy-0.18.0-py2.py3-none-any.whl.metadata (4.9 kB)\n",
      "Downloading fuzzywuzzy-0.18.0-py2.py3-none-any.whl (18 kB)\n",
      "Installing collected packages: fuzzywuzzy\n",
      "Successfully installed fuzzywuzzy-0.18.0\n"
     ]
    }
   ],
   "source": [
    "!pip3 install fuzzywuzzy"
   ]
  },
  {
   "cell_type": "code",
   "execution_count": 17,
   "id": "fe560e84",
   "metadata": {},
   "outputs": [],
   "source": [
    "import numpy as np\n",
    "from sklearn.feature_extraction.text import TfidfVectorizer\n",
    "from sklearn.svm import LinearSVC\n",
    "from sklearn.pipeline import Pipeline\n",
    "from sklearn.metrics import classification_report, accuracy_score\n",
    "from fuzzywuzzy import process\n",
    "# It povides fuzzy matching for fallback predictions.\n",
    "\n",
    "# We will define standard commands\n",
    "# A list of 14 standard commands that the system should recognize\n",
    "COMMANDS = [\n",
    "    \"activate do not disturb\",\n",
    "    \"deactivate do not disturb\",\n",
    "    \"decline the call\",\n",
    "    \"pick up the call\",\n",
    "    \"play the music\",\n",
    "    \"pause the music\",\n",
    "    \"play the next song\",\n",
    "    \"play the previous song\",\n",
    "    \"increase the volume\",\n",
    "    \"decrease the volume\",\n",
    "    \"increase the brightness\",\n",
    "    \"decrease the brightness\",\n",
    "    \"start the vehicle\",\n",
    "    \"stop the vehicle\",\n",
    "]\n"
   ]
  },
  {
   "cell_type": "code",
   "execution_count": 18,
   "id": "e807c8f2",
   "metadata": {},
   "outputs": [],
   "source": [
    "# Training data\n",
    "variants = {\n",
    "    \"activate do not disturb\": [\n",
    "        \"Please turn on do not disturb mode\",\n",
    "        \"I need some peace and quiet, enable do not disturb\",\n",
    "        \"Set my status to do not disturb\",\n",
    "        \"Activate do not disturb feature\",\n",
    "        \"Put me in do not disturb mode\",\n",
    "    ],\n",
    "    \"deactivate do not disturb\": [\n",
    "        \"Turn off do not disturb\",\n",
    "        \"Disable do not disturb mode\",\n",
    "        \"End do not disturb for me\",\n",
    "        \"Cancel do not disturb\",\n",
    "    ],\n",
    "    \"decline the call\": [\n",
    "        \"Reject the incoming call\",\n",
    "        \"Send the caller to voicemail\",\n",
    "        \"Ignore the ringing phone\",\n",
    "        \"Don't answer this call\",\n",
    "    ],\n",
    "    \"pick up the call\": [\n",
    "        \"Answer the call\",\n",
    "        \"Accept the incoming call\",\n",
    "        \"Let me talk to the person calling\",\n",
    "    ],\n",
    "    \"play the music\": [\n",
    "        \"Start playing songs\",\n",
    "        \"Kick off the music playlist\",\n",
    "        \"Activate music playback\",\n",
    "    ],\n",
    "    \"pause the music\": [\n",
    "        \"Stop the music for now\",\n",
    "        \"Temporarily halt playback\",\n",
    "        \"Suspend the current song\",\n",
    "    ],\n",
    "    \"play the next song\": [\n",
    "        \"Skip ahead to the next track\",\n",
    "        \"Advance to the upcoming song\",\n",
    "        \"Proceed to play the next song in line\",\n",
    "    ],\n",
    "    \"play the previous song\": [\n",
    "        \"Go back to the prior song\",\n",
    "        \"Rewind to the preceding track\",\n",
    "        \"Replay the last song again\",\n",
    "    ],\n",
    "    \"increase the volume\": [\n",
    "        \"Turn it up\",\n",
    "        \"Make it louder\",\n",
    "        \"Boost the audio level\",\n",
    "    ],\n",
    "    \"decrease the volume\": [\n",
    "        \"Turn it down\",\n",
    "        \"Lower the volume\",\n",
    "        \"Reduce the audio output\",\n",
    "    ],\n",
    "    \"increase the brightness\": [\n",
    "        \"Turn up the brightness\",\n",
    "        \"Boost the luminance\",\n",
    "    ],\n",
    "    \"decrease the brightness\": [\n",
    "        \"Turn down the brightness\",\n",
    "        \"Dim the brightness\",\n",
    "    ],\n",
    "    \"start the vehicle\": [\n",
    "        \"Turn on the engine\",\n",
    "        \"Fire up the vehicle\",\n",
    "    ],\n",
    "    \"stop the vehicle\": [\n",
    "        \"Shut off the engine\",\n",
    "        \"Power down the vehicle\",\n",
    "    ],\n",
    "}"
   ]
  },
  {
   "cell_type": "code",
   "execution_count": 19,
   "id": "8b3e329b",
   "metadata": {},
   "outputs": [],
   "source": [
    "# Prepare data for training\n",
    "X, y = [], []\n",
    "for command, phrases in variants.items():\n",
    "    X.extend(phrases)\n",
    "    y.extend([command] * len(phrases))"
   ]
  },
  {
   "cell_type": "code",
   "execution_count": 20,
   "id": "2be9244f",
   "metadata": {},
   "outputs": [],
   "source": [
    "# Build classification pipeline\n",
    "model = Pipeline([\n",
    "    ('tfidf', TfidfVectorizer()),\n",
    "    ('classifier', LinearSVC()),\n",
    "])"
   ]
  },
  {
   "cell_type": "code",
   "execution_count": 21,
   "id": "b28df6b6",
   "metadata": {},
   "outputs": [
    {
     "data": {
      "text/plain": [
       "Pipeline(steps=[('tfidf', TfidfVectorizer()), ('classifier', LinearSVC())])"
      ]
     },
     "execution_count": 21,
     "metadata": {},
     "output_type": "execute_result"
    }
   ],
   "source": [
    "# Train the model\n",
    "model.fit(X, y)"
   ]
  },
  {
   "cell_type": "code",
   "execution_count": 22,
   "id": "fe6fd0c8",
   "metadata": {},
   "outputs": [],
   "source": [
    "# Prediction function\n",
    "def predict_command(user_input):\n",
    "    # Predict with the model\n",
    "    prediction = model.predict([user_input])[0]\n",
    "    # Fallback with fuzzy matching\n",
    "    if prediction not in COMMANDS:\n",
    "        prediction, _ = process.extractOne(user_input, COMMANDS)\n",
    "    return prediction"
   ]
  },
  {
   "cell_type": "markdown",
   "id": "69a5c656",
   "metadata": {},
   "source": [
    "### User Input: Please boost the audio level\n",
    "### Predicted Command: increase the volume"
   ]
  },
  {
   "cell_type": "code",
   "execution_count": 23,
   "id": "23abe2f8",
   "metadata": {},
   "outputs": [
    {
     "name": "stdout",
     "output_type": "stream",
     "text": [
      "User Input: Please boost the audio level\n",
      "Predicted Command: increase the volume\n"
     ]
    }
   ],
   "source": [
    "# Test the system\n",
    "test_input = \"Please boost the audio level\"\n",
    "print(\"User Input:\", test_input)\n",
    "print(\"Predicted Command:\", predict_command(test_input))"
   ]
  },
  {
   "cell_type": "code",
   "execution_count": null,
   "id": "9b1454e4",
   "metadata": {},
   "outputs": [],
   "source": []
  },
  {
   "cell_type": "markdown",
   "id": "feed2e0f",
   "metadata": {},
   "source": [
    "### Evaluation of our model"
   ]
  },
  {
   "cell_type": "code",
   "execution_count": 24,
   "id": "41678bdf",
   "metadata": {},
   "outputs": [
    {
     "name": "stdout",
     "output_type": "stream",
     "text": [
      "Classification Report:\n",
      "                            precision    recall  f1-score   support\n",
      "\n",
      "  activate do not disturb       0.00      0.00      0.00         1\n",
      "deactivate do not disturb       0.50      1.00      0.67         1\n",
      "         decline the call       0.00      0.00      0.00         0\n",
      "      decrease the volume       0.00      0.00      0.00         0\n",
      "  increase the brightness       0.00      0.00      0.00         0\n",
      "      increase the volume       0.00      0.00      0.00         2\n",
      "          pause the music       0.00      0.00      0.00         1\n",
      "         pick up the call       0.00      0.00      0.00         1\n",
      "           play the music       0.00      0.00      0.00         0\n",
      "       play the next song       0.00      0.00      0.00         0\n",
      "   play the previous song       0.00      0.00      0.00         2\n",
      "        start the vehicle       0.00      0.00      0.00         1\n",
      "         stop the vehicle       0.00      0.00      0.00         0\n",
      "\n",
      "                 accuracy                           0.11         9\n",
      "                macro avg       0.04      0.08      0.05         9\n",
      "             weighted avg       0.06      0.11      0.07         9\n",
      "\n"
     ]
    },
    {
     "name": "stderr",
     "output_type": "stream",
     "text": [
      "C:\\ProgramData\\Anaconda3\\lib\\site-packages\\sklearn\\metrics\\_classification.py:1318: UndefinedMetricWarning: Precision and F-score are ill-defined and being set to 0.0 in labels with no predicted samples. Use `zero_division` parameter to control this behavior.\n",
      "  _warn_prf(average, modifier, msg_start, len(result))\n",
      "C:\\ProgramData\\Anaconda3\\lib\\site-packages\\sklearn\\metrics\\_classification.py:1318: UndefinedMetricWarning: Recall and F-score are ill-defined and being set to 0.0 in labels with no true samples. Use `zero_division` parameter to control this behavior.\n",
      "  _warn_prf(average, modifier, msg_start, len(result))\n",
      "C:\\ProgramData\\Anaconda3\\lib\\site-packages\\sklearn\\metrics\\_classification.py:1318: UndefinedMetricWarning: Precision and F-score are ill-defined and being set to 0.0 in labels with no predicted samples. Use `zero_division` parameter to control this behavior.\n",
      "  _warn_prf(average, modifier, msg_start, len(result))\n",
      "C:\\ProgramData\\Anaconda3\\lib\\site-packages\\sklearn\\metrics\\_classification.py:1318: UndefinedMetricWarning: Recall and F-score are ill-defined and being set to 0.0 in labels with no true samples. Use `zero_division` parameter to control this behavior.\n",
      "  _warn_prf(average, modifier, msg_start, len(result))\n",
      "C:\\ProgramData\\Anaconda3\\lib\\site-packages\\sklearn\\metrics\\_classification.py:1318: UndefinedMetricWarning: Precision and F-score are ill-defined and being set to 0.0 in labels with no predicted samples. Use `zero_division` parameter to control this behavior.\n",
      "  _warn_prf(average, modifier, msg_start, len(result))\n",
      "C:\\ProgramData\\Anaconda3\\lib\\site-packages\\sklearn\\metrics\\_classification.py:1318: UndefinedMetricWarning: Recall and F-score are ill-defined and being set to 0.0 in labels with no true samples. Use `zero_division` parameter to control this behavior.\n",
      "  _warn_prf(average, modifier, msg_start, len(result))\n"
     ]
    }
   ],
   "source": [
    "from sklearn.model_selection import train_test_split\n",
    "from sklearn.metrics import classification_report, confusion_matrix\n",
    "import matplotlib.pyplot as plt\n",
    "import seaborn as sns\n",
    "\n",
    "# Split the data\n",
    "X_train, X_test, y_train, y_test = train_test_split(X, y, test_size=0.2, random_state=42)\n",
    "\n",
    "# Train the model\n",
    "model.fit(X_train, y_train)\n",
    "\n",
    "# Predictions\n",
    "y_pred = model.predict(X_test)\n",
    "\n",
    "# Print classification report\n",
    "print(\"Classification Report:\\n\", classification_report(y_test, y_pred))"
   ]
  },
  {
   "cell_type": "code",
   "execution_count": 25,
   "id": "1061a926",
   "metadata": {},
   "outputs": [
    {
     "data": {
      "image/png": "[encoded data removed]",
      "text/plain": [
       "<Figure size 720x576 with 2 Axes>"
      ]
     },
     "metadata": {
      "needs_background": "light"
     },
     "output_type": "display_data"
    }
   ],
   "source": [
    "# Confusion matrix\n",
    "conf_matrix = confusion_matrix(y_test, y_pred, labels=COMMANDS)\n",
    "plt.figure(figsize=(10, 8))\n",
    "sns.heatmap(conf_matrix, annot=True, fmt='d', xticklabels=COMMANDS, yticklabels=COMMANDS, cmap=\"Blues\")\n",
    "plt.xlabel(\"Predicted\")\n",
    "plt.ylabel(\"Actual\")\n",
    "plt.title(\"Confusion Matrix\")\n",
    "plt.show()\n"
   ]
  },
  {
   "cell_type": "code",
   "execution_count": 27,
   "id": "cb057aa4",
   "metadata": {},
   "outputs": [],
   "source": [
    "# from sklearn.preprocessing import label_binarize\n",
    "# from sklearn.metrics import precision_recall_curve, roc_curve, auc\n",
    "# import matplotlib.pyplot as plt\n",
    "\n",
    "# # Binarize the output (one-vs-all for multiclass)\n",
    "# y_test_binarized = label_binarize(y_test, classes=COMMANDS)\n",
    "# y_scores = model.decision_function(X_test)  # Get decision function scores\n",
    "\n",
    "# # Plot precision-recall curve for each class\n",
    "# plt.figure(figsize=(10, 8))\n",
    "# for i, command in enumerate(COMMANDS):\n",
    "#     precision, recall, _ = precision_recall_curve(y_test_binarized[:, i], y_scores[:, i])\n",
    "#     plt.plot(recall, precision, label=f'PR Curve for \"{command}\"')\n",
    "\n",
    "# plt.xlabel(\"Recall\")\n",
    "# plt.ylabel(\"Precision\")\n",
    "# plt.title(\"Precision-Recall Curve (Multiclass)\")\n",
    "# plt.legend(loc=\"lower left\")\n",
    "# plt.grid()\n",
    "# plt.show()\n"
   ]
  },
  {
   "cell_type": "code",
   "execution_count": 13,
   "id": "2cb87d23",
   "metadata": {},
   "outputs": [
    {
     "data": {
      "text/plain": [
       "Pipeline(steps=[('tfidf', TfidfVectorizer()),\n",
       "                ('classifier', SVC(kernel='linear', probability=True))])"
      ]
     },
     "execution_count": 13,
     "metadata": {},
     "output_type": "execute_result"
    }
   ],
   "source": [
    "from sklearn.svm import SVC\n",
    "\n",
    "# Replace LinearSVC with SVC\n",
    "model = Pipeline([\n",
    "    ('tfidf', TfidfVectorizer()),\n",
    "    ('classifier', SVC(probability=True, kernel='linear')),\n",
    "])\n",
    "\n",
    "# Train the model\n",
    "model.fit(X_train, y_train)\n"
   ]
  },
  {
   "cell_type": "code",
   "execution_count": 26,
   "id": "fdb9c161",
   "metadata": {},
   "outputs": [],
   "source": [
    "# we will Save the Trained Model using Pickle\n",
    "import pickle\n",
    "\n",
    "# Save the trained model to a file\n",
    "with open('command_classifier.pkl', 'wb') as f:\n",
    "    pickle.dump(model, f)\n"
   ]
  },
  {
   "cell_type": "code",
   "execution_count": null,
   "id": "d7b96efd",
   "metadata": {},
   "outputs": [],
   "source": []
  },
  {
   "cell_type": "code",
   "execution_count": null,
   "id": "6fcc3f5b",
   "metadata": {},
   "outputs": [],
   "source": []
  },
  {
   "cell_type": "code",
   "execution_count": null,
   "id": "5854926a",
   "metadata": {},
   "outputs": [],
   "source": []
  },
  {
   "cell_type": "code",
   "execution_count": null,
   "id": "6d441393",
   "metadata": {},
   "outputs": [],
   "source": []
  }
 ],
 "metadata": {
  "kernelspec": {
   "display_name": "Python 3 (ipykernel)",
   "language": "python",
   "name": "python3"
  },
  "language_info": {
   "codemirror_mode": {
    "name": "ipython",
    "version": 3
   },
   "file_extension": ".py",
   "mimetype": "text/x-python",
   "name": "python",
   "nbconvert_exporter": "python",
   "pygments_lexer": "ipython3",
   "version": "3.9.12"
  }
 },
 "nbformat": 4,
 "nbformat_minor": 5
}
